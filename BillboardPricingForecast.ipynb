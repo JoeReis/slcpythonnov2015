{
 "cells": [
  {
   "cell_type": "markdown",
   "metadata": {},
   "source": [
    "# Billboard Example"
   ]
  },
  {
   "cell_type": "markdown",
   "metadata": {},
   "source": [
    "### Import the data"
   ]
  },
  {
   "cell_type": "code",
   "execution_count": 34,
   "metadata": {
    "collapsed": false
   },
   "outputs": [
    {
     "data": {
      "text/html": [
       "<div>\n",
       "<table border=\"1\" class=\"dataframe\">\n",
       "  <thead>\n",
       "    <tr style=\"text-align: right;\">\n",
       "      <th></th>\n",
       "      <th>LOCATION QUALITY</th>\n",
       "      <th>DAILY IMPRESSIONS</th>\n",
       "      <th>WEEKS UNOCCUPIED</th>\n",
       "      <th>LABEL</th>\n",
       "    </tr>\n",
       "  </thead>\n",
       "  <tbody>\n",
       "    <tr>\n",
       "      <th>0</th>\n",
       "      <td>Medium</td>\n",
       "      <td>76470</td>\n",
       "      <td>13</td>\n",
       "      <td>6231</td>\n",
       "    </tr>\n",
       "    <tr>\n",
       "      <th>1</th>\n",
       "      <td>Medium</td>\n",
       "      <td>76471</td>\n",
       "      <td>8</td>\n",
       "      <td>4725</td>\n",
       "    </tr>\n",
       "    <tr>\n",
       "      <th>2</th>\n",
       "      <td>High</td>\n",
       "      <td>107313</td>\n",
       "      <td>3</td>\n",
       "      <td>28834</td>\n",
       "    </tr>\n",
       "    <tr>\n",
       "      <th>3</th>\n",
       "      <td>Medium</td>\n",
       "      <td>66973</td>\n",
       "      <td>7</td>\n",
       "      <td>17337</td>\n",
       "    </tr>\n",
       "    <tr>\n",
       "      <th>4</th>\n",
       "      <td>Low</td>\n",
       "      <td>35079</td>\n",
       "      <td>11</td>\n",
       "      <td>7587</td>\n",
       "    </tr>\n",
       "  </tbody>\n",
       "</table>\n",
       "</div>"
      ],
      "text/plain": [
       "  LOCATION QUALITY  DAILY IMPRESSIONS  WEEKS UNOCCUPIED  LABEL\n",
       "0           Medium              76470                13   6231\n",
       "1           Medium              76471                 8   4725\n",
       "2             High             107313                 3  28834\n",
       "3           Medium              66973                 7  17337\n",
       "4              Low              35079                11   7587"
      ]
     },
     "execution_count": 34,
     "metadata": {},
     "output_type": "execute_result"
    }
   ],
   "source": [
    "import matplotlib.pyplot as plt\n",
    "import numpy as np\n",
    "import pandas as pd\n",
    "\n",
    "# this allows plots to appear directly in the notebook\n",
    "%matplotlib inline\n",
    "\n",
    "# Read csv using pandas\n",
    "input_data = pd.read_csv('billboardpricing_demo.csv')\n",
    "\n",
    "input_data.head()"
   ]
  },
  {
   "cell_type": "markdown",
   "metadata": {},
   "source": [
    "### Analyze the data"
   ]
  },
  {
   "cell_type": "code",
   "execution_count": 35,
   "metadata": {
    "collapsed": false
   },
   "outputs": [
    {
     "data": {
      "text/plain": [
       "<matplotlib.axes._subplots.AxesSubplot at 0x1072ece10>"
      ]
     },
     "execution_count": 35,
     "metadata": {},
     "output_type": "execute_result"
    },
    {
     "name": "stderr",
     "output_type": "stream",
     "text": [
      "/Users/josephreis/.virtualenvs/data/lib/python3.4/site-packages/matplotlib/collections.py:590: FutureWarning: elementwise comparison failed; returning scalar instead, but in the future will perform elementwise comparison\n",
      "  if self._edgecolors == str('face'):\n"
     ]
    },
    {
     "data": {
      "image/png": "[encoded data removed]",
      "text/plain": [
       "<matplotlib.figure.Figure at 0x10bc11d30>"
      ]
     },
     "metadata": {},
     "output_type": "display_data"
    }
   ],
   "source": [
    "# visualize the relationship between the features and the response using scatterplots\n",
    "\n",
    "fig, axs = plt.subplots(1, 2, sharey=True)\n",
    "input_data.plot(kind='scatter', x='DAILY IMPRESSIONS', y='LABEL', ax=axs[0], figsize=(16, 8))\n",
    "input_data.plot(kind='scatter', x='WEEKS UNOCCUPIED', y='LABEL', ax=axs[1])"
   ]
  },
  {
   "cell_type": "markdown",
   "metadata": {},
   "source": [
    "### Convert categorical features to numeric"
   ]
  },
  {
   "cell_type": "code",
   "execution_count": 36,
   "metadata": {
    "collapsed": false
   },
   "outputs": [
    {
     "name": "stdout",
     "output_type": "stream",
     "text": [
      "Data shape: (100, 6)\n",
      "Final data types  High                 float64\n",
      "Low                  float64\n",
      "Medium               float64\n",
      "DAILY IMPRESSIONS      int64\n",
      "WEEKS UNOCCUPIED       int64\n",
      "LABEL                  int64\n",
      "dtype: object\n"
     ]
    },
    {
     "data": {
      "text/html": [
       "<div>\n",
       "<table border=\"1\" class=\"dataframe\">\n",
       "  <thead>\n",
       "    <tr style=\"text-align: right;\">\n",
       "      <th></th>\n",
       "      <th>High</th>\n",
       "      <th>Low</th>\n",
       "      <th>Medium</th>\n",
       "      <th>DAILY IMPRESSIONS</th>\n",
       "      <th>WEEKS UNOCCUPIED</th>\n",
       "      <th>LABEL</th>\n",
       "    </tr>\n",
       "  </thead>\n",
       "  <tbody>\n",
       "    <tr>\n",
       "      <th>0</th>\n",
       "      <td>0</td>\n",
       "      <td>0</td>\n",
       "      <td>1</td>\n",
       "      <td>76470</td>\n",
       "      <td>13</td>\n",
       "      <td>6231</td>\n",
       "    </tr>\n",
       "    <tr>\n",
       "      <th>1</th>\n",
       "      <td>0</td>\n",
       "      <td>0</td>\n",
       "      <td>1</td>\n",
       "      <td>76471</td>\n",
       "      <td>8</td>\n",
       "      <td>4725</td>\n",
       "    </tr>\n",
       "    <tr>\n",
       "      <th>2</th>\n",
       "      <td>1</td>\n",
       "      <td>0</td>\n",
       "      <td>0</td>\n",
       "      <td>107313</td>\n",
       "      <td>3</td>\n",
       "      <td>28834</td>\n",
       "    </tr>\n",
       "    <tr>\n",
       "      <th>3</th>\n",
       "      <td>0</td>\n",
       "      <td>0</td>\n",
       "      <td>1</td>\n",
       "      <td>66973</td>\n",
       "      <td>7</td>\n",
       "      <td>17337</td>\n",
       "    </tr>\n",
       "    <tr>\n",
       "      <th>4</th>\n",
       "      <td>0</td>\n",
       "      <td>1</td>\n",
       "      <td>0</td>\n",
       "      <td>35079</td>\n",
       "      <td>11</td>\n",
       "      <td>7587</td>\n",
       "    </tr>\n",
       "  </tbody>\n",
       "</table>\n",
       "</div>"
      ],
      "text/plain": [
       "   High  Low  Medium  DAILY IMPRESSIONS  WEEKS UNOCCUPIED  LABEL\n",
       "0     0    0       1              76470                13   6231\n",
       "1     0    0       1              76471                 8   4725\n",
       "2     1    0       0             107313                 3  28834\n",
       "3     0    0       1              66973                 7  17337\n",
       "4     0    1       0              35079                11   7587"
      ]
     },
     "execution_count": 36,
     "metadata": {},
     "output_type": "execute_result"
    }
   ],
   "source": [
    "dummies = pd.get_dummies(input_data['LOCATION QUALITY'])\n",
    "\n",
    "# Now that we have categoricals, delete the 'Location' column from input_data\n",
    "del input_data['LOCATION QUALITY']\n",
    "\n",
    "# concatentate the dummy vars with the numerical values\n",
    "final = pd.concat([dummies, input_data], axis=1)\n",
    "\n",
    "#final = final.as_matrix()\n",
    "print(\"Data shape:\", final.shape) # (m,n - m rows, n columns)\n",
    "\n",
    "# df.convert_objects(convert_numeric=True)\n",
    "# final = final.convert_objects(convert_numeric=True)\n",
    "\n",
    "print(\"Final data types \", final.dtypes)\n",
    "final.head()"
   ]
  },
  {
   "cell_type": "code",
   "execution_count": 37,
   "metadata": {
    "collapsed": false
   },
   "outputs": [
    {
     "data": {
      "text/plain": [
       "<matplotlib.axes._subplots.AxesSubplot at 0x10c02f160>"
      ]
     },
     "execution_count": 37,
     "metadata": {},
     "output_type": "execute_result"
    },
    {
     "name": "stderr",
     "output_type": "stream",
     "text": [
      "/Users/josephreis/.virtualenvs/data/lib/python3.4/site-packages/matplotlib/collections.py:590: FutureWarning: elementwise comparison failed; returning scalar instead, but in the future will perform elementwise comparison\n",
      "  if self._edgecolors == str('face'):\n"
     ]
    },
    {
     "data": {
      "image/png": "[encoded data removed]",
      "text/plain": [
       "<matplotlib.figure.Figure at 0x10720eb38>"
      ]
     },
     "metadata": {},
     "output_type": "display_data"
    }
   ],
   "source": [
    "# PLOT Categoricals\n",
    "\n",
    "fig, axs = plt.subplots(1, 3, sharey=True)\n",
    "final.plot(kind='scatter', x='High', y='LABEL', ax=axs[0], figsize=(16, 8))\n",
    "final.plot(kind='scatter', x='Low', y='LABEL', ax=axs[1])\n",
    "final.plot(kind='scatter', x='Medium', y='LABEL', ax=axs[2])\n",
    "#input_data.plot(kind='scatter', x='% 4-WEEK PERIODS OCCUPIED', y='LABEL', ax=axs[1])"
   ]
  },
  {
   "cell_type": "markdown",
   "metadata": {},
   "source": [
    "### Perform some predictions"
   ]
  },
  {
   "cell_type": "code",
   "execution_count": 38,
   "metadata": {
    "collapsed": false
   },
   "outputs": [
    {
     "name": "stdout",
     "output_type": "stream",
     "text": [
      "Score (R^2):  0.801809750643 \n",
      "\n",
      "Predicted values [ 27673.89756483  22434.5332253   28499.72398519  14853.93930016\n",
      "  30531.15943158  10258.60012599  17445.58140259   7977.93673177\n",
      "   6972.09178161  17091.40000361   5879.11623068   6132.76191117\n",
      "  20714.33355572   4488.37074395  22106.92874621  27628.53830154\n",
      "   9029.95198631   6638.79260433  21928.18251403  15429.71454052\n",
      "  29489.48430702   9169.93803953   8813.90693679   8787.69135372\n",
      "   8847.16844346  21563.81346608  33050.51429833   5296.1776492\n",
      "   7444.24001707  30600.79313591] \n",
      "\n",
      "Coefficients:  [('Low', 7189.9921156951759), ('Medium', 1191.9274351133699), ('DAILY IMPRESSIONS', 0.30718818182301089), ('WEEKS UNOCCUPIED', -849.17272217585094)]\n"
     ]
    },
    {
     "name": "stderr",
     "output_type": "stream",
     "text": [
      "/Users/josephreis/.virtualenvs/data/lib/python3.4/site-packages/ipykernel/__main__.py:20: DeprecationWarning: using a non-integer number instead of an integer will result in an error in the future\n",
      "/Users/josephreis/.virtualenvs/data/lib/python3.4/site-packages/ipykernel/__main__.py:21: DeprecationWarning: using a non-integer number instead of an integer will result in an error in the future\n",
      "/Users/josephreis/.virtualenvs/data/lib/python3.4/site-packages/ipykernel/__main__.py:24: DeprecationWarning: using a non-integer number instead of an integer will result in an error in the future\n",
      "/Users/josephreis/.virtualenvs/data/lib/python3.4/site-packages/ipykernel/__main__.py:25: DeprecationWarning: using a non-integer number instead of an integer will result in an error in the future\n"
     ]
    }
   ],
   "source": [
    "# construct a linear model\n",
    "from sklearn import linear_model\n",
    "\n",
    "# randomly assign train and test\n",
    "np.random.seed(0)\n",
    "indices = np.random.permutation(len(final))\n",
    "\n",
    "# get last column for label\n",
    "final_label = final['LABEL'].values\n",
    "\n",
    "# In general, if you have a categorical feature with k levels, you create k-1 dummy variables.\n",
    "final_data = final.drop(['High', 'LABEL'], axis=1).as_matrix()\n",
    "# final_data = final.drop('LABEL', axis=1).as_matrix()\n",
    "\n",
    "# get column names\n",
    "final_columns = final.drop(['High', 'LABEL'], axis=1).columns\n",
    "# final_columns = final.drop('LABEL', axis=1).columns\n",
    "\n",
    "# TRAINING SET\n",
    "final_data_train = final_data[indices[:-len(final)*.3]]\n",
    "final_label_train = final_label[indices[:-len(final)*.3]]\n",
    "\n",
    "# TEST SET\n",
    "final_data_test = final_data[indices[-len(final)*.3:]]\n",
    "final_label_test = final_label[indices[-len(final)*.3:]]\n",
    "\n",
    "# FIT THE MODEL\n",
    "regr = linear_model.LinearRegression()\n",
    "regr.fit(final_data_train, final_label_train)\n",
    "\n",
    "# PREDICT\n",
    "regr.predict(final_data_test)\n",
    "\n",
    "# ASSESS\n",
    "print(\"Score (R^2): \", regr.score(final_data_test, final_label_test), \"\\n\")\n",
    "print(\"Predicted values\", regr.predict(final_data_test), \"\\n\")\n",
    "\n",
    "print(\"Coefficients: \", list(zip(final_columns, regr.coef_)))"
   ]
  },
  {
   "cell_type": "code",
   "execution_count": 39,
   "metadata": {
    "collapsed": false
   },
   "outputs": [
    {
     "name": "stdout",
     "output_type": "stream",
     "text": [
      "Score (R^2):  0.801809750643 \n",
      "\n",
      "Predicted values [ 27673.89756483  22434.53322529  28499.72398518  14853.93930016\n",
      "  30531.15943158  10258.60012599  17445.58140258   7977.93673177\n",
      "   6972.09178162  17091.40000361   5879.11623069   6132.76191118\n",
      "  20714.33355573   4488.37074396  22106.92874622  27628.53830154\n",
      "   9029.95198632   6638.79260434  21928.18251402  15429.71454052\n",
      "  29489.48430702   9169.93803953   8813.9069368    8787.69135373\n",
      "   8847.16844346  21563.81346609  33050.51429832   5296.17764921\n",
      "   7444.24001708  30600.79313591] \n",
      "\n",
      "Coefficients:  [('High', -1191.9274350927953), ('Low', 5998.0646805672422), ('DAILY IMPRESSIONS', 0.3071881818223538), ('WEEKS UNOCCUPIED', -849.17272217584969)]\n"
     ]
    },
    {
     "name": "stderr",
     "output_type": "stream",
     "text": [
      "/Users/josephreis/.virtualenvs/data/lib/python3.4/site-packages/ipykernel/__main__.py:19: DeprecationWarning: using a non-integer number instead of an integer will result in an error in the future\n",
      "/Users/josephreis/.virtualenvs/data/lib/python3.4/site-packages/ipykernel/__main__.py:20: DeprecationWarning: using a non-integer number instead of an integer will result in an error in the future\n",
      "/Users/josephreis/.virtualenvs/data/lib/python3.4/site-packages/ipykernel/__main__.py:23: DeprecationWarning: using a non-integer number instead of an integer will result in an error in the future\n",
      "/Users/josephreis/.virtualenvs/data/lib/python3.4/site-packages/ipykernel/__main__.py:24: DeprecationWarning: using a non-integer number instead of an integer will result in an error in the future\n"
     ]
    }
   ],
   "source": []
  },
  {
   "cell_type": "code",
   "execution_count": null,
   "metadata": {
    "collapsed": true
   },
   "outputs": [],
   "source": []
  }
 ],
 "metadata": {
  "kernelspec": {
   "display_name": "Python 3",
   "language": "python",
   "name": "python3"
  },
  "language_info": {
   "codemirror_mode": {
    "name": "ipython",
    "version": 3
   },
   "file_extension": ".py",
   "mimetype": "text/x-python",
   "name": "python",
   "nbconvert_exporter": "python",
   "pygments_lexer": "ipython3",
   "version": "3.4.3"
  }
 },
 "nbformat": 4,
 "nbformat_minor": 0
}
